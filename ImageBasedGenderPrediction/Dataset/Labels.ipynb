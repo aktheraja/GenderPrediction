{
 "cells": [
  {
   "cell_type": "code",
   "execution_count": 82,
   "metadata": {},
   "outputs": [],
   "source": [
    "import scipy.io as sio"
   ]
  },
  {
   "cell_type": "code",
   "execution_count": 83,
   "metadata": {},
   "outputs": [],
   "source": [
    "matdata=sio.loadmat('./IMDB/imdb.mat')\n",
    "items = matdata['imdb'][0][0]"
   ]
  },
  {
   "cell_type": "code",
   "execution_count": 84,
   "metadata": {
    "scrolled": false
   },
   "outputs": [],
   "source": [
    "dob = items[0][0]\n",
    "photo_taken = items[1][0]\n",
    "full_path = items[2][0]\n",
    "gender = items[3][0]\n",
    "name = items[4][0]\n",
    "face_location = items[5][0]\n",
    "face_score = items[6][0]\n",
    "second_face_score = items[7][0]\n",
    "celeb_names = items[8][0]\n",
    "celeb_id = items[9][0]"
   ]
  },
  {
   "cell_type": "code",
   "execution_count": 85,
   "metadata": {},
   "outputs": [],
   "source": [
    "import pandas as pd\n",
    "import numpy as np\n",
    "from datetime import datetime, timedelta"
   ]
  },
  {
   "cell_type": "code",
   "execution_count": 86,
   "metadata": {},
   "outputs": [],
   "source": [
    "def flatten(a):\n",
    "    return [x[0] for x in a]\n",
    "\n",
    "def dateConvert(matlab_datenum):\n",
    "    if matlab_datenum > 366:\n",
    "        return datetime.fromordinal(int(matlab_datenum)) + timedelta(days=matlab_datenum%1) - timedelta(days = 366)\n",
    "    else:\n",
    "        return np.nan"
   ]
  },
  {
   "cell_type": "code",
   "execution_count": 87,
   "metadata": {},
   "outputs": [],
   "source": [
    "df = pd.DataFrame({'path': flatten(full_path),\n",
    "                   'id': celeb_id,\n",
    "                   'name': flatten(name), \n",
    "                   'dob': dob,\n",
    "                   'gender': gender,\n",
    "                   'score1': face_score,\n",
    "                   'score2': second_face_score,\n",
    "                   'pic_date': photo_taken,\n",
    "                   'region': flatten(face_location),\n",
    "                   \n",
    "                   })"
   ]
  },
  {
   "cell_type": "code",
   "execution_count": 88,
   "metadata": {},
   "outputs": [],
   "source": [
    "df.dob = df.dob.astype(int).apply(dateConvert)\n",
    "df.pic_date = pd.to_datetime(df.pic_date, format='%Y')\n",
    "df['age'] = (df.pic_date - df.dob)/np.timedelta64(1,'Y')\n",
    "df.dropna(axis=0, how='any', subset=['path','gender'], inplace=True)\n",
    "df['gender'] = df.gender.astype(int)\n",
    "df['path'] = df.path.astype(str)"
   ]
  },
  {
   "cell_type": "code",
   "execution_count": 89,
   "metadata": {},
   "outputs": [
    {
     "data": {
      "text/html": [
       "<div>\n",
       "<style scoped>\n",
       "    .dataframe tbody tr th:only-of-type {\n",
       "        vertical-align: middle;\n",
       "    }\n",
       "\n",
       "    .dataframe tbody tr th {\n",
       "        vertical-align: top;\n",
       "    }\n",
       "\n",
       "    .dataframe thead th {\n",
       "        text-align: right;\n",
       "    }\n",
       "</style>\n",
       "<table border=\"1\" class=\"dataframe\">\n",
       "  <thead>\n",
       "    <tr style=\"text-align: right;\">\n",
       "      <th></th>\n",
       "      <th>path</th>\n",
       "      <th>id</th>\n",
       "      <th>name</th>\n",
       "      <th>dob</th>\n",
       "      <th>gender</th>\n",
       "      <th>score1</th>\n",
       "      <th>score2</th>\n",
       "      <th>pic_date</th>\n",
       "      <th>region</th>\n",
       "      <th>age</th>\n",
       "    </tr>\n",
       "  </thead>\n",
       "  <tbody>\n",
       "    <tr>\n",
       "      <th>0</th>\n",
       "      <td>01/nm0000001_rm124825600_1899-5-10_1968.jpg</td>\n",
       "      <td>6488</td>\n",
       "      <td>Fred Astaire</td>\n",
       "      <td>1899-05-10</td>\n",
       "      <td>1</td>\n",
       "      <td>1.459693</td>\n",
       "      <td>1.118973</td>\n",
       "      <td>1968-01-01</td>\n",
       "      <td>[1072.926, 161.838, 1214.7839999999999, 303.69...</td>\n",
       "      <td>68.644804</td>\n",
       "    </tr>\n",
       "    <tr>\n",
       "      <th>1</th>\n",
       "      <td>01/nm0000001_rm3343756032_1899-5-10_1970.jpg</td>\n",
       "      <td>6488</td>\n",
       "      <td>Fred Astaire</td>\n",
       "      <td>1899-05-10</td>\n",
       "      <td>1</td>\n",
       "      <td>2.543198</td>\n",
       "      <td>1.852008</td>\n",
       "      <td>1970-01-01</td>\n",
       "      <td>[477.184, 100.352, 622.592, 245.76]</td>\n",
       "      <td>70.646215</td>\n",
       "    </tr>\n",
       "    <tr>\n",
       "      <th>2</th>\n",
       "      <td>01/nm0000001_rm577153792_1899-5-10_1968.jpg</td>\n",
       "      <td>6488</td>\n",
       "      <td>Fred Astaire</td>\n",
       "      <td>1899-05-10</td>\n",
       "      <td>1</td>\n",
       "      <td>3.455579</td>\n",
       "      <td>2.985660</td>\n",
       "      <td>1968-01-01</td>\n",
       "      <td>[114.96964308962852, 114.96964308962852, 451.6...</td>\n",
       "      <td>68.644804</td>\n",
       "    </tr>\n",
       "  </tbody>\n",
       "</table>\n",
       "</div>"
      ],
      "text/plain": [
       "                                           path    id          name  \\\n",
       "0   01/nm0000001_rm124825600_1899-5-10_1968.jpg  6488  Fred Astaire   \n",
       "1  01/nm0000001_rm3343756032_1899-5-10_1970.jpg  6488  Fred Astaire   \n",
       "2   01/nm0000001_rm577153792_1899-5-10_1968.jpg  6488  Fred Astaire   \n",
       "\n",
       "         dob  gender    score1    score2   pic_date  \\\n",
       "0 1899-05-10       1  1.459693  1.118973 1968-01-01   \n",
       "1 1899-05-10       1  2.543198  1.852008 1970-01-01   \n",
       "2 1899-05-10       1  3.455579  2.985660 1968-01-01   \n",
       "\n",
       "                                              region        age  \n",
       "0  [1072.926, 161.838, 1214.7839999999999, 303.69...  68.644804  \n",
       "1                [477.184, 100.352, 622.592, 245.76]  70.646215  \n",
       "2  [114.96964308962852, 114.96964308962852, 451.6...  68.644804  "
      ]
     },
     "execution_count": 89,
     "metadata": {},
     "output_type": "execute_result"
    }
   ],
   "source": [
    "df.head(3)"
   ]
  },
  {
   "cell_type": "code",
   "execution_count": 90,
   "metadata": {},
   "outputs": [
    {
     "data": {
      "text/plain": [
       "(452261, 10)"
      ]
     },
     "execution_count": 90,
     "metadata": {},
     "output_type": "execute_result"
    }
   ],
   "source": [
    "df.shape"
   ]
  },
  {
   "cell_type": "code",
   "execution_count": 91,
   "metadata": {
    "scrolled": true
   },
   "outputs": [],
   "source": [
    "# Drop data points where there is no score (crop failure)\n",
    "df = df[df.region.apply(lambda x: (x[0]!=1 and x[1]!=1))]"
   ]
  },
  {
   "cell_type": "code",
   "execution_count": 92,
   "metadata": {},
   "outputs": [],
   "source": [
    "# Select only rows where they are only 1 face score (no second person)\n",
    "df = df[pd.isnull(df.score2)]"
   ]
  },
  {
   "cell_type": "code",
   "execution_count": 93,
   "metadata": {},
   "outputs": [
    {
     "data": {
      "text/plain": [
       "(181626, 10)"
      ]
     },
     "execution_count": 93,
     "metadata": {},
     "output_type": "execute_result"
    }
   ],
   "source": [
    "df.shape"
   ]
  },
  {
   "cell_type": "code",
   "execution_count": 94,
   "metadata": {},
   "outputs": [],
   "source": [
    "# randomly remove some male samples to balance male and female data points\n",
    "frac = (df[df.gender==1].shape[0]-df[df.gender==0].shape[0])/(df[df.gender==1].shape[0])\n",
    "df=df.drop(df.query('gender == 1').sample(frac=frac, random_state=1 ).index)\n"
   ]
  },
  {
   "cell_type": "code",
   "execution_count": 95,
   "metadata": {},
   "outputs": [
    {
     "data": {
      "text/plain": [
       "(81668, 10)"
      ]
     },
     "execution_count": 95,
     "metadata": {},
     "output_type": "execute_result"
    }
   ],
   "source": [
    "# male data points:\n",
    "df[df.gender==1].shape"
   ]
  },
  {
   "cell_type": "code",
   "execution_count": 96,
   "metadata": {},
   "outputs": [
    {
     "data": {
      "text/plain": [
       "(81668, 10)"
      ]
     },
     "execution_count": 96,
     "metadata": {},
     "output_type": "execute_result"
    }
   ],
   "source": [
    "# female data points:\n",
    "df[df.gender==0].shape"
   ]
  },
  {
   "cell_type": "code",
   "execution_count": 97,
   "metadata": {
    "scrolled": true
   },
   "outputs": [
    {
     "data": {
      "text/plain": [
       "path                object\n",
       "id                  uint16\n",
       "name                object\n",
       "dob         datetime64[ns]\n",
       "gender               int32\n",
       "score1             float64\n",
       "score2             float64\n",
       "pic_date    datetime64[ns]\n",
       "region              object\n",
       "age                float64\n",
       "dtype: object"
      ]
     },
     "execution_count": 97,
     "metadata": {},
     "output_type": "execute_result"
    }
   ],
   "source": [
    "df.dtypes"
   ]
  },
  {
   "cell_type": "code",
   "execution_count": 98,
   "metadata": {},
   "outputs": [],
   "source": [
    "import pickle"
   ]
  },
  {
   "cell_type": "code",
   "execution_count": 99,
   "metadata": {},
   "outputs": [
    {
     "data": {
      "text/plain": [
       "(163336, 10)"
      ]
     },
     "execution_count": 99,
     "metadata": {},
     "output_type": "execute_result"
    }
   ],
   "source": [
    "df.shape"
   ]
  },
  {
   "cell_type": "markdown",
   "metadata": {},
   "source": [
    "#### Split dataframe"
   ]
  },
  {
   "cell_type": "code",
   "execution_count": 100,
   "metadata": {},
   "outputs": [],
   "source": [
    "def train_test_split(df, sample_frac, train_frac, rand_state):\n",
    "    \"\"\"downsize a given df. split into train and test sets.\"\"\"\n",
    "    small_df = df.sample(frac=sample_frac, random_state=rand_state)\n",
    "    df_train = small_df.sample(frac=train_frac, random_state=rand_state)\n",
    "    df_test = small_df.loc[~small_df.index.isin(df_train.index), :]\n",
    "    return (df_train, df_test)"
   ]
  },
  {
   "cell_type": "markdown",
   "metadata": {},
   "source": [
    "#### Using only 1 percent of the total data, split into train-test sets (95-5%)"
   ]
  },
  {
   "cell_type": "code",
   "execution_count": 101,
   "metadata": {},
   "outputs": [],
   "source": [
    "(df_1pct_train, df_1pct_test) = train_test_split(df, 0.01, 1, 1)"
   ]
  },
  {
   "cell_type": "code",
   "execution_count": 102,
   "metadata": {},
   "outputs": [],
   "source": [
    "pickle_out = open('df_1pct.pickle', 'wb')\n",
    "pickle.dump((df_1pct_train, df_1pct_test), pickle_out)\n",
    "pickle_out.close()"
   ]
  },
  {
   "cell_type": "code",
   "execution_count": 103,
   "metadata": {},
   "outputs": [],
   "source": [
    "# To load from file:\n",
    "pickle_in = open('df_1pct.pickle', 'rb')\n",
    "my_df_train, my_df_test = pickle.load(pickle_in)"
   ]
  },
  {
   "cell_type": "code",
   "execution_count": 104,
   "metadata": {},
   "outputs": [
    {
     "name": "stdout",
     "output_type": "stream",
     "text": [
      "(1633, 10) (0, 10)\n"
     ]
    }
   ],
   "source": [
    "print(my_df_train.shape, my_df_test.shape)"
   ]
  },
  {
   "cell_type": "code",
   "execution_count": 105,
   "metadata": {},
   "outputs": [],
   "source": [
    "pickle_in.close()"
   ]
  },
  {
   "cell_type": "markdown",
   "metadata": {},
   "source": [
    "#### Using 5 percent of the total data, split into train-test sets (95-5%)"
   ]
  },
  {
   "cell_type": "code",
   "execution_count": 106,
   "metadata": {},
   "outputs": [],
   "source": [
    "(df_5pct_train, df_5pct_test) = train_test_split(df, 0.05, 0.95, 1)"
   ]
  },
  {
   "cell_type": "code",
   "execution_count": 107,
   "metadata": {},
   "outputs": [],
   "source": [
    "pickle_out = open('df_5pct.pickle', 'wb')\n",
    "pickle.dump((df_5pct_train, df_5pct_test), pickle_out)\n",
    "pickle_out.close()"
   ]
  },
  {
   "cell_type": "code",
   "execution_count": 108,
   "metadata": {},
   "outputs": [],
   "source": [
    "# To load from file:\n",
    "pickle_in = open('df_5pct.pickle', 'rb')\n",
    "my_df_train, my_df_test = pickle.load(pickle_in)"
   ]
  },
  {
   "cell_type": "code",
   "execution_count": 109,
   "metadata": {},
   "outputs": [
    {
     "name": "stdout",
     "output_type": "stream",
     "text": [
      "(7759, 10) (408, 10)\n"
     ]
    }
   ],
   "source": [
    "print(my_df_train.shape, my_df_test.shape)"
   ]
  },
  {
   "cell_type": "markdown",
   "metadata": {},
   "source": [
    "#### Using 10 percent of the total data, split into train-test sets (95-5%)"
   ]
  },
  {
   "cell_type": "code",
   "execution_count": 110,
   "metadata": {},
   "outputs": [],
   "source": [
    "(df_10pct_train, df_10pct_test) = train_test_split(df, 0.1, 0.95, 1)"
   ]
  },
  {
   "cell_type": "code",
   "execution_count": 111,
   "metadata": {},
   "outputs": [],
   "source": [
    "pickle_out = open('df_10pct.pickle', 'wb')\n",
    "pickle.dump((df_10pct_train, df_10pct_test), pickle_out)\n",
    "pickle_out.close()"
   ]
  },
  {
   "cell_type": "code",
   "execution_count": 112,
   "metadata": {},
   "outputs": [],
   "source": [
    "# To load from file:\n",
    "pickle_in = open('df_10pct.pickle', 'rb')\n",
    "my_df_train, my_df_test = pickle.load(pickle_in)"
   ]
  },
  {
   "cell_type": "code",
   "execution_count": 113,
   "metadata": {},
   "outputs": [
    {
     "name": "stdout",
     "output_type": "stream",
     "text": [
      "(15517, 10) (817, 10)\n"
     ]
    }
   ],
   "source": [
    "print(my_df_train.shape, my_df_test.shape)"
   ]
  },
  {
   "cell_type": "markdown",
   "metadata": {},
   "source": [
    "#### Using 20 percent of the total data, split into train-test sets (95-5%)"
   ]
  },
  {
   "cell_type": "code",
   "execution_count": 114,
   "metadata": {},
   "outputs": [],
   "source": [
    "(df_20pct_train, df_20pct_test) = train_test_split(df, 0.2, 0.95, 1)"
   ]
  },
  {
   "cell_type": "code",
   "execution_count": 115,
   "metadata": {},
   "outputs": [],
   "source": [
    "pickle_out = open('df_20pct.pickle', 'wb')\n",
    "pickle.dump((df_20pct_train, df_20pct_test), pickle_out)\n",
    "pickle_out.close()"
   ]
  },
  {
   "cell_type": "code",
   "execution_count": 116,
   "metadata": {},
   "outputs": [],
   "source": [
    "# To load from file:\n",
    "pickle_in = open('df_20pct.pickle', 'rb')\n",
    "my_df_train, my_df_test = pickle.load(pickle_in)"
   ]
  },
  {
   "cell_type": "code",
   "execution_count": 117,
   "metadata": {},
   "outputs": [
    {
     "name": "stdout",
     "output_type": "stream",
     "text": [
      "(31034, 10) (1633, 10)\n"
     ]
    }
   ],
   "source": [
    "print(my_df_train.shape, my_df_test.shape)"
   ]
  },
  {
   "cell_type": "markdown",
   "metadata": {},
   "source": [
    "#### Using all data, split into train-test sets (95-5%)"
   ]
  },
  {
   "cell_type": "code",
   "execution_count": 118,
   "metadata": {},
   "outputs": [],
   "source": [
    "(df_all_train, df_all_test) = train_test_split(df, 1, 0.95, 1)"
   ]
  },
  {
   "cell_type": "code",
   "execution_count": 119,
   "metadata": {},
   "outputs": [],
   "source": [
    "pickle_out = open('df_all.pickle', 'wb')\n",
    "pickle.dump((df_all_train, df_all_test), pickle_out)\n",
    "pickle_out.close()"
   ]
  },
  {
   "cell_type": "code",
   "execution_count": 120,
   "metadata": {},
   "outputs": [],
   "source": [
    "# To load from file:\n",
    "pickle_in = open('df_all.pickle', 'rb')\n",
    "my_df_train, my_df_test = pickle.load(pickle_in)"
   ]
  },
  {
   "cell_type": "code",
   "execution_count": 121,
   "metadata": {},
   "outputs": [
    {
     "name": "stdout",
     "output_type": "stream",
     "text": [
      "(155169, 10) (8167, 10)\n"
     ]
    }
   ],
   "source": [
    "print(my_df_train.shape, my_df_test.shape)"
   ]
  },
  {
   "cell_type": "code",
   "execution_count": null,
   "metadata": {},
   "outputs": [],
   "source": []
  }
 ],
 "metadata": {
  "kernelspec": {
   "display_name": "Python 3",
   "language": "python",
   "name": "python3"
  },
  "language_info": {
   "codemirror_mode": {
    "name": "ipython",
    "version": 3
   },
   "file_extension": ".py",
   "mimetype": "text/x-python",
   "name": "python",
   "nbconvert_exporter": "python",
   "pygments_lexer": "ipython3",
   "version": "3.6.8"
  },
  "varInspector": {
   "cols": {
    "lenName": 16,
    "lenType": 16,
    "lenVar": 40
   },
   "kernels_config": {
    "python": {
     "delete_cmd_postfix": "",
     "delete_cmd_prefix": "del ",
     "library": "var_list.py",
     "varRefreshCmd": "print(var_dic_list())"
    },
    "r": {
     "delete_cmd_postfix": ") ",
     "delete_cmd_prefix": "rm(",
     "library": "var_list.r",
     "varRefreshCmd": "cat(var_dic_list()) "
    }
   },
   "types_to_exclude": [
    "module",
    "function",
    "builtin_function_or_method",
    "instance",
    "_Feature"
   ],
   "window_display": false
  }
 },
 "nbformat": 4,
 "nbformat_minor": 2
}