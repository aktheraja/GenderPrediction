{
 "cells": [
  {
   "cell_type": "code",
   "execution_count": null,
   "metadata": {},
   "outputs": [],
   "source": [
    "# Work in progress CNN regression in Keras\n",
    "model = models.Sequential()\n",
    "model.add(convolutional.Convolution2D(16, 3, 3, input_shape=(32, 128, 3), activation='relu'))\n",
    "model.add(pooling.MaxPooling2D(pool_size=(2, 2)))\n",
    "model.add(convolutional.Convolution2D(32, 3, 3, activation='relu'))\n",
    "model.add(pooling.MaxPooling2D(pool_size=(2, 2)))\n",
    "model.add(convolutional.Convolution2D(64, 3, 3, activation='relu'))\n",
    "model.add(pooling.MaxPooling2D(pool_size=(2, 2)))\n",
    "model.add(core.Flatten())\n",
    "model.add(core.Dense(500, activation='relu'))\n",
    "model.add(core.Dropout(.5))\n",
    "model.add(core.Dense(100, activation='relu'))\n",
    "model.add(core.Dropout(.25))\n",
    "model.add(core.Dense(20, activation='relu'))\n",
    "model.add(core.Dense(1))\n",
    "model.compile(optimizer=optimizers.Adam(lr=1e-04), loss='mean_squared_error')"
   ]
  }
 ],
 "metadata": {
  "kernelspec": {
   "display_name": "Python 3",
   "language": "python",
   "name": "python3"
  },
  "language_info": {
   "codemirror_mode": {
    "name": "ipython",
    "version": 3
   },
   "file_extension": ".py",
   "mimetype": "text/x-python",
   "name": "python",
   "nbconvert_exporter": "python",
   "pygments_lexer": "ipython3",
   "version": "3.6.8"
  },
  "varInspector": {
   "cols": {
    "lenName": 16,
    "lenType": 16,
    "lenVar": 40
   },
   "kernels_config": {
    "python": {
     "delete_cmd_postfix": "",
     "delete_cmd_prefix": "del ",
     "library": "var_list.py",
     "varRefreshCmd": "print(var_dic_list())"
    },
    "r": {
     "delete_cmd_postfix": ") ",
     "delete_cmd_prefix": "rm(",
     "library": "var_list.r",
     "varRefreshCmd": "cat(var_dic_list()) "
    }
   },
   "types_to_exclude": [
    "module",
    "function",
    "builtin_function_or_method",
    "instance",
    "_Feature"
   ],
   "window_display": false
  }
 },
 "nbformat": 4,
 "nbformat_minor": 2
}
